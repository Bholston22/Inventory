{
 "cells": [
  {
   "cell_type": "markdown",
   "id": "3fa7cc66",
   "metadata": {},
   "source": [
    "# CIS 314 Prototype 1\n",
    "## Briana Holston\n",
    "This prototype will demonstrate"
   ]
  },
  {
   "cell_type": "code",
   "execution_count": 1,
   "id": "094e5c02",
   "metadata": {},
   "outputs": [
    {
     "name": "stdout",
     "output_type": "stream",
     "text": [
      "Enter inventory amount: 200\n",
      "Enter number of sales: 20\n",
      "shoe inventory 200 shoe sales 20\n",
      "final inventory 180\n"
     ]
    }
   ],
   "source": [
    "class Product():\n",
    "    def __init__(self, sales, inventory):\n",
    "        self.sales = sales\n",
    "        self.inventory = inventory\n",
    "        \n",
    "      \n",
    "class Inventory():\n",
    "\n",
    "    def __init__(self):\n",
    "        self.productlist = []\n",
    "\n",
    "    def add_product(self):\n",
    "        inventory = int(input('Enter inventory amount: '))\n",
    "        sales = int(input('Enter number of sales: '))\n",
    "        self.productlist.append(Product(sales, inventory))\n",
    "        print( 'shoe inventory' , inventory , 'shoe sales' , sales ) \n",
    "        return self.productlist\n",
    "\n",
    "    def display(self): \n",
    "        for product in self.productlist:\n",
    "            print('final inventory' , product.inventory - product.sales) \n",
    "\n",
    "    def inventory_value(self):\n",
    "        running_sum=0\n",
    "        for product in self.productlist:\n",
    "            running_sum += product.inventory - product.sales\n",
    "\n",
    "        return(running_sum)\n",
    "    \n",
    " \n",
    "    \n",
    "class Profit():\n",
    "        def __init__(self):\n",
    "            self.productlist = []\n",
    "\n",
    "        def add_profit(self):\n",
    "            price = 20 \n",
    "            pricetome = 5\n",
    "            shelflife = 2\n",
    "            totalprofit = 13\n",
    "            self.profitsummary.append(Product(price, pricetome, shelflife, totalprofit))\n",
    "            print( 'Price' , price , 'Price to me', pricetome , 'Shelf life', shelflife , 'Total Profit', totalprofit ) \n",
    "            return self.productlist\n",
    "\n",
    "        def display(self): \n",
    "            for product in self.productlist:\n",
    "                if PricetoME < ShelfLife + totalProfit:\n",
    "                    print( 'Worth it') \n",
    "\n",
    "        def profit_summary(self):\n",
    "            running_sum=0\n",
    "            for product in self.productlist:\n",
    "                running_sum += profit.PricetoME < profit.ShelfLife + profit.totalProfit\n",
    "\n",
    "            return(running_sum)\n",
    "\n",
    "if __name__ == \"__main__\":\n",
    "    t = Inventory()\n",
    "    temp = t.add_product()\n",
    "    t.display()\n",
    "   # p = Profit()\n",
    "   # profit = p.add_product()\n",
    "   # p.display()"
   ]
  },
  {
   "cell_type": "code",
   "execution_count": null,
   "id": "3c31eb73",
   "metadata": {},
   "outputs": [],
   "source": []
  }
 ],
 "metadata": {
  "kernelspec": {
   "display_name": "Python 3 (ipykernel)",
   "language": "python",
   "name": "python3"
  },
  "language_info": {
   "codemirror_mode": {
    "name": "ipython",
    "version": 3
   },
   "file_extension": ".py",
   "mimetype": "text/x-python",
   "name": "python",
   "nbconvert_exporter": "python",
   "pygments_lexer": "ipython3",
   "version": "3.10.2"
  }
 },
 "nbformat": 4,
 "nbformat_minor": 5
}
